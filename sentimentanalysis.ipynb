{
 "cells": [
  {
   "cell_type": "code",
   "execution_count": 1,
   "metadata": {},
   "outputs": [],
   "source": [
    "#positive 1\n",
    "#negative 0\n",
    "\n",
    "\n",
    "AI_SERVICE_ENDPOINT = \"https://aiservicesdemo3232.cognitiveservices.azure.com/\"\n",
    "AI_SERVICE_KEY = \"dad9815a11fb41adb8983c5a7f42a145\"\n",
    "\n",
    "ai_endpoint = AI_SERVICE_ENDPOINT\n",
    "ai_key = AI_SERVICE_KEY"
   ]
  },
  {
   "cell_type": "code",
   "execution_count": 2,
   "metadata": {},
   "outputs": [],
   "source": [
    " # import namespaces\n",
    "from azure.core.credentials import AzureKeyCredential\n",
    "from azure.ai.textanalytics import TextAnalyticsClient\n",
    "  # Create client using endpoint and key\n",
    "credential = AzureKeyCredential(ai_key)\n",
    "ai_client = TextAnalyticsClient(endpoint=ai_endpoint, credential=credential)"
   ]
  },
  {
   "cell_type": "code",
   "execution_count": 13,
   "metadata": {},
   "outputs": [
    {
     "name": "stdout",
     "output_type": "stream",
     "text": [
      "\n",
      "-------------\n",
      "review1.txt\n",
      "\n",
      "Good Hotel and staff\n",
      "The Royal Hotel, London, UK\n",
      "3/2/2018\n",
      "Clean rooms, good service, great location near Buckingham Palace and Westminster Abbey, and so on. We thoroughly enjoyed our stay. The courtyard is very peaceful and we went to a restaurant which is part of the same group and is Indian ( West coast so plenty of fish) with a Michelin Star. We had the taster menu which was fabulous. The rooms were very well appointed with a kitchen, lounge, bedroom and enormous bathroom. Thoroughly recommended.\n",
      "\n",
      "Sentiment: positive\n",
      "\n",
      "-------------\n",
      "review2.txt\n",
      "\n",
      "Tired hotel with poor service\n",
      "The Royal Hotel, London, United Kingdom\n",
      "5/6/2018\n",
      "This is a old hotel (has been around since 1950's) and the room furnishings are average - becoming a bit old now and require changing. The internet didn't work and had to come to one of their office rooms to check in for my flight home. The website says it's close to the British Museum, but it's too far to walk.\n",
      "\n",
      "Sentiment: negative\n"
     ]
    }
   ],
   "source": [
    "# Analyze each text file in the reviews folder\n",
    "reviews_folder = \"E:\\\\VScode\\\\MLprojects\\\\Azure_sentiment_analysis\\\\reviews\"\n",
    "import os\n",
    "for file_name in os.listdir(reviews_folder):\n",
    "        # Read the file contents\n",
    "        print('\\n-------------\\n' + file_name)\n",
    "        text = open(os.path.join(reviews_folder, file_name), encoding='utf8').read()\n",
    "        print('\\n' + text)\n",
    "         # Get sentiment\n",
    "        sentimentAnalysis = ai_client.analyze_sentiment(documents=[text])[0]\n",
    "        print(\"\\nSentiment: {}\".format(sentimentAnalysis.sentiment))"
   ]
  }
 ],
 "metadata": {
  "kernelspec": {
   "display_name": "MLenv",
   "language": "python",
   "name": "python3"
  },
  "language_info": {
   "codemirror_mode": {
    "name": "ipython",
    "version": 3
   },
   "file_extension": ".py",
   "mimetype": "text/x-python",
   "name": "python",
   "nbconvert_exporter": "python",
   "pygments_lexer": "ipython3",
   "version": "3.11.9"
  }
 },
 "nbformat": 4,
 "nbformat_minor": 2
}
