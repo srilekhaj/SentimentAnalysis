{
 "cells": [
  {
   "cell_type": "code",
   "execution_count": 51,
   "metadata": {},
   "outputs": [
    {
     "name": "stdout",
     "output_type": "stream",
     "text": [
      "You can speak now, I'm listening\n",
      "The service is very very good.\n"
     ]
    }
   ],
   "source": [
    "#voice from mic\n",
    "#convert into text speech sdk\n",
    "#speech azure openai\n",
    "\n",
    "#azure-cognitiveservices-speech\n",
    "#openai\n",
    "import azure.cognitiveservices.speech as speechsdk\n",
    "AZURE_SPEECH_REGION =\"eastus\"\n",
    "AZURE_SPEECH_KEY = \"dad9815a11fb41adb8983c5a7f42a145\"\n",
    "\n",
    "speech_config = speechsdk.SpeechConfig(subscription = AZURE_SPEECH_KEY, region = AZURE_SPEECH_REGION)\n",
    "speech_config.speech_recognition_language = \"en-us\"\n",
    "\n",
    "audio_config = speechsdk.audio.AudioConfig(use_default_microphone=True)\n",
    "\n",
    "#speech recog both speech and audio as input\n",
    "speech_recognizer = speechsdk.SpeechRecognizer(speech_config=speech_config, audio_config=audio_config)\n",
    "\n",
    "print(\"You can speak now, I'm listening\")\n",
    "\n",
    "speech_recognition_result = speech_recognizer.recognize_once_async().get()\n",
    "\n",
    "if speech_recognition_result.reason == speechsdk.ResultReason.RecognizedSpeech:\n",
    "        print(speech_recognition_result.text)\n",
    "elif speech_recognition_result.reason == speechsdk.ResultReason.NoMatch:\n",
    "        print(\"No speech could be recognized.\")\n",
    "else:\n",
    "        print(f\"Speech Recognition canceled: {speech_recognition_result.cancellation_details.reason}\")\n",
    "    \n",
    "    \n",
    "\n",
    "output = speech_recognition_result.text\n",
    "\n"
   ]
  },
  {
   "cell_type": "code",
   "execution_count": 53,
   "metadata": {},
   "outputs": [
    {
     "data": {
      "text/plain": [
       "'The service is very very good.'"
      ]
     },
     "execution_count": 53,
     "metadata": {},
     "output_type": "execute_result"
    }
   ],
   "source": [
    "output"
   ]
  },
  {
   "cell_type": "code",
   "execution_count": null,
   "metadata": {},
   "outputs": [],
   "source": [
    "\n"
   ]
  },
  {
   "cell_type": "code",
   "execution_count": 56,
   "metadata": {},
   "outputs": [
    {
     "name": "stdout",
     "output_type": "stream",
     "text": [
      "<class 'str'>\n",
      "Sentiment: Positive\n",
      "Explanation: The sentiment is positive because the text expresses satisfaction and praise for the service. The repetition of \"very\" also emphasizes the level of positivity.\n"
     ]
    }
   ],
   "source": [
    "from openai import AzureOpenAI\n",
    "from langchain_openai import AzureChatOpenAI\n",
    "DEPLOYMENT_NAME = \"gpt-35-turbo\"\n",
    "OPENAI_API_VERSION = \"2024-02-01\"\n",
    "\n",
    "\n",
    "# Azure Text Analytics client\n",
    "AI_SERVICE_ENDPOINT = \"https://aiservicesdemo3232.cognitiveservices.azure.com/\"\n",
    "AI_SERVICE_KEY = \"dad9815a11fb41adb8983c5a7f42a145\"  # Replace with your actual key\n",
    "\n",
    "# Initialize Azure OpenAI client\n",
    "azure_openai = AzureChatOpenAI(\n",
    "    azure_deployment=DEPLOYMENT_NAME,  # Your Azure OpenAI deployment name\n",
    "    api_version=OPENAI_API_VERSION,     # Your API version\n",
    "    api_key=AI_SERVICE_KEY,\n",
    "    azure_endpoint = AI_SERVICE_ENDPOINT\n",
    ")\n",
    "\n",
    "# Prepare the prompt\n",
    "#prompt = output  # Assuming 'output' is defined elsewhere in your code\n",
    "\n",
    "prompt = f\"\"\"\n",
    "Sentiment Detection Prompt\n",
    "\n",
    "Please analyze the following text and determine the overall sentiment as either Positive, Negative, or Mixed. Provide a brief explanation for your classification.\n",
    "\n",
    "Examples:\n",
    "\n",
    "Text: \"I absolutely loved the concert! The energy was incredible and the band played all my favorite songs.\"\n",
    "Sentiment: Positive\n",
    "Explanation: The sentiment is positive due to expressions of enjoyment and excitement.\n",
    "\n",
    "Text: \"I had a terrible experience at the restaurant. The service was slow and the food was cold.\"\n",
    "Sentiment: Negative\n",
    "Explanation: The sentiment is negative because of dissatisfaction and complaints.\n",
    "\n",
    "Text: \"The movie had stunning visuals, but the plot was confusing and hard to follow.\"\n",
    "Sentiment: Mixed\n",
    "Explanation: The sentiment is mixed as there are both positive and negative elements present.\n",
    "Now, please analyze the following text: {output}.\n",
    "\n",
    "\n",
    "\"\"\"\n",
    "# Create the response\n",
    "response = azure_openai.invoke(prompt)\n",
    "\n",
    "# Extract the output text\n",
    "output_text = response.content  # Use .content to get the text in the response\n",
    "\n",
    "output_text\n",
    "#print(type(output_text))\n",
    "t = str(output_text).split(\"\\n\")\n",
    "for e in t:\n",
    "    print(e)"
   ]
  },
  {
   "cell_type": "code",
   "execution_count": null,
   "metadata": {},
   "outputs": [],
   "source": [
    "# recognize speech from wav file\n",
    "\"stt\\\\rugby.mp3\"\n",
    "def from_file():\n",
    "    speech_config = speechsdk.SpeechConfig(subscription=\"YourSpeechKey\", region=\"YourSpeechRegion\")\n",
    "    audio_config = speechsdk.AudioConfig(filename=\"your_file_name.wav\")\n",
    "    speech_recognizer = speechsdk.SpeechRecognizer(speech_config=speech_config, audio_config=audio_config)\n",
    "\n",
    "    speech_recognition_result = speech_recognizer.recognize_once_async().get()\n",
    "    print(speech_recognition_result.text)\n",
    "\n",
    "from_file()"
   ]
  }
 ],
 "metadata": {
  "kernelspec": {
   "display_name": "MLenv",
   "language": "python",
   "name": "python3"
  },
  "language_info": {
   "codemirror_mode": {
    "name": "ipython",
    "version": 3
   },
   "file_extension": ".py",
   "mimetype": "text/x-python",
   "name": "python",
   "nbconvert_exporter": "python",
   "pygments_lexer": "ipython3",
   "version": "3.11.9"
  }
 },
 "nbformat": 4,
 "nbformat_minor": 2
}
